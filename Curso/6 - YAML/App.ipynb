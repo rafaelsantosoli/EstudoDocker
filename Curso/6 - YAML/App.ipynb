{
 "cells": [
  {
   "cell_type": "markdown",
   "metadata": {},
   "source": [
    "Importação de bibliotecas"
   ]
  },
  {
   "cell_type": "code",
   "execution_count": 2,
   "metadata": {},
   "outputs": [],
   "source": [
    "import yaml"
   ]
  },
  {
   "cell_type": "markdown",
   "metadata": {},
   "source": [
    "Função para executar o arquivo yml"
   ]
  },
  {
   "cell_type": "code",
   "execution_count": 5,
   "metadata": {},
   "outputs": [
    {
     "name": "stdout",
     "output_type": "stream",
     "text": [
      "nome :  Rafael\n",
      "idade :  25\n",
      "objeto :  {'versao': 2, 'arquivo': 'test.yaml'}\n",
      "texto_simples :  Este Ã© um texto simples\n",
      "texto_com_quebra :  Este Ã© um texto\n",
      "com quebra de linha\n",
      "\n",
      "texto_com_quebra_e_tab :  Este Ã© um texto\n",
      "com quebra de linha\n",
      "e tabulaÃ§Ã£o\n",
      "\n",
      "texto_com_quebra_e_tab_sem_primeira_linha :  Este Ã© um texto\n",
      "com quebra de linha\n",
      "e tabulaÃ§Ã£o\n",
      "texto_com_quebra_e_tab_sem_primeira_e_ultima_linha :  Este Ã© um texto com quebra de linha e tabulaÃ§Ã£o\n",
      "texto_com_quebra_e_tab_sem_primeira_e_ultima_linha_com_quebra_de_linha_no_final :  Este Ã© um texto com quebra de linha e tabulaÃ§Ã£o\n",
      "numero :  10\n",
      "numero_decimal :  10.5\n",
      "booleanoTrue :  True\n",
      "booleanoFalse :  False\n",
      "booleanoOn :  True\n",
      "booleanoOff :  False\n",
      "sequencia :  ['item1', 'item2', 'item3']\n",
      "dicionario :  {'chave1': 'valor1', 'chave2': 'valor2', 'chave3': 'valor3'}\n",
      "dicionario2 :  {'chave1': 'valor1', 'chave2': 'valor2', 'chave3': 'valor3'}\n",
      "dicionario_com_lista :  [{'chave1': 'valor1'}, {'chave2': 'valor2'}, {'chave3': 'valor3'}]\n",
      "lista :  ['item1', 'item2', 'item3']\n",
      "lista2 :  ['item1', 'item2', 'item3']\n",
      "objeto1 :  {'chave1': 'valor1', 'chave2': 'valor2', 'chave3': 'valor3'}\n",
      "objeto2 :  {'chave1': 'valor1', 'chave2': 'valor2', 'chave3': 'valor3'}\n",
      "dicionario_com_objetos :  {'chave1': {'chave2': 'valor2', 'chave3': 'valor3'}, 'chave4': {'chave5': 'valor5', 'chave6': 'valor6'}}\n",
      "lista_com_objetos :  [{'chave1': 'valor1', 'chave2': 'valor2'}, {'chave3': 'valor3', 'chave4': 'valor4'}]\n",
      "lista_com_objetos_e_quebra_de_linha :  [{'chave1': 'valor1', 'chave2': 'valor2'}, {'chave3': 'valor3', 'chave4': 'valor4'}]\n"
     ]
    }
   ],
   "source": [
    "if __name__ == '__main__':\n",
    "    \n",
    "    stream = open('test.yaml', 'r')\n",
    "    dictionary = yaml.safe_load(stream)\n",
    "\n",
    "    for key, value in dictionary.items():\n",
    "        print(key + \" : \", str(value))\n"
   ]
  }
 ],
 "metadata": {
  "kernelspec": {
   "display_name": "Python 3",
   "language": "python",
   "name": "python3"
  },
  "language_info": {
   "codemirror_mode": {
    "name": "ipython",
    "version": 3
   },
   "file_extension": ".py",
   "mimetype": "text/x-python",
   "name": "python",
   "nbconvert_exporter": "python",
   "pygments_lexer": "ipython3",
   "version": "3.11.5"
  },
  "orig_nbformat": 4
 },
 "nbformat": 4,
 "nbformat_minor": 2
}
